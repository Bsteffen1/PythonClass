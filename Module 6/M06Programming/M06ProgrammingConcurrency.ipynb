{
 "cells": [
  {
   "cell_type": "code",
   "execution_count": 4,
   "id": "a60bc0e3-d56c-4ea9-bbe6-16e3ef23d175",
   "metadata": {},
   "outputs": [
    {
     "data": {
      "text/plain": [
       "'It is April 24, 2024'"
      ]
     },
     "execution_count": 4,
     "metadata": {},
     "output_type": "execute_result"
    }
   ],
   "source": [
    "# M06 Concurrency in Python\n",
    "# 13.1-3 Read a text file to get today's date and parse the date from the string\n",
    "# 15.1 Multiprocessing to create three separate processes with each print the cureent time at random times between 0 and 1 secthen exit\n",
    "\n",
    "#Import modules\n",
    "import time\n",
    "from datetime import datetime\n",
    "import multiprocessing\n",
    "import random\n",
    "\n",
    "#Open text file read and store in today_string\n",
    "f = open('today.txt', 'r')\n",
    "today_string = f.read()\n",
    "f.close()\n",
    "\n",
    "#Set format to read today string\n",
    "fmt = \"%Y-%m-%d\"\n",
    "time.strptime(today_string, fmt)\n",
    "#Set format to a readable text\n",
    "fmt = \"It is %B %d, %Y\"\n",
    "#Print date\n",
    "time.strftime(fmt)"
   ]
  },
  {
   "cell_type": "code",
   "execution_count": 3,
   "id": "4361f161-98d5-4731-b326-8e8741b3c096",
   "metadata": {},
   "outputs": [],
   "source": [
    "#Function to Print time at random \n",
    "def randomTime():\n",
    "    #random time between 0 and 1 second\n",
    "    time.sleep(random.uniform(0, 1))\n",
    "    #get date then print\n",
    "    now = datetime.now()\n",
    "    now\n",
    "\n",
    "#set amount of processes\n",
    "randomTimes = 3\n",
    "#multiproccess startup\n",
    "if __name__ == '__main__':\n",
    "    for num in range(randomTimes):\n",
    "        p = multiprocessing.Process(target=randomTime)\n",
    "        p.start()"
   ]
  }
 ],
 "metadata": {
  "kernelspec": {
   "display_name": "Python 3 (ipykernel)",
   "language": "python",
   "name": "python3"
  },
  "language_info": {
   "codemirror_mode": {
    "name": "ipython",
    "version": 3
   },
   "file_extension": ".py",
   "mimetype": "text/x-python",
   "name": "python",
   "nbconvert_exporter": "python",
   "pygments_lexer": "ipython3",
   "version": "3.11.7"
  }
 },
 "nbformat": 4,
 "nbformat_minor": 5
}
