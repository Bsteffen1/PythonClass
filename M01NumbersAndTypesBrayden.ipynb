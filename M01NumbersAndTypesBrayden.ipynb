{
 "cells": [
  {
   "cell_type": "code",
   "execution_count": 9,
   "id": "19591be9-bc5b-4140-9f0e-66f32817f991",
   "metadata": {},
   "outputs": [
    {
     "data": {
      "text/plain": [
       "3600"
      ]
     },
     "execution_count": 9,
     "metadata": {},
     "output_type": "execute_result"
    }
   ],
   "source": [
    "#3.1 Calculator for  seconds per hour\n",
    "60 * 60"
   ]
  },
  {
   "cell_type": "code",
   "execution_count": 10,
   "id": "bd0ece13-b2df-4ff8-9d76-b0335ad9302b",
   "metadata": {},
   "outputs": [],
   "source": [
    "#3.2 Assign result\n",
    "seconds_per_hour = 3600"
   ]
  },
  {
   "cell_type": "code",
   "execution_count": 11,
   "id": "6c8b3b3b-1f7c-4655-be0d-9b6803732bf0",
   "metadata": {},
   "outputs": [
    {
     "data": {
      "text/plain": [
       "86400"
      ]
     },
     "execution_count": 11,
     "metadata": {},
     "output_type": "execute_result"
    }
   ],
   "source": [
    "#3.3 Calculate seconds per day\n",
    "seconds_per_hour * 24"
   ]
  },
  {
   "cell_type": "code",
   "execution_count": 12,
   "id": "dcfa8013-383e-4480-bbca-df97108b028d",
   "metadata": {},
   "outputs": [],
   "source": [
    "#3.4 Calculate seconds per day again, assigning it to seconds_per_day\n",
    "seconds_per_day = seconds_per_hour  * 24"
   ]
  },
  {
   "cell_type": "code",
   "execution_count": 13,
   "id": "d23a742d-54a6-4967-8053-28838064617b",
   "metadata": {},
   "outputs": [
    {
     "data": {
      "text/plain": [
       "24.0"
      ]
     },
     "execution_count": 13,
     "metadata": {},
     "output_type": "execute_result"
    }
   ],
   "source": [
    "#3.5 Divide day by hour\n",
    "seconds_per_day / seconds_per_hour"
   ]
  },
  {
   "cell_type": "code",
   "execution_count": 14,
   "id": "a3fdb5a5-396b-4bba-b782-b327243c84c5",
   "metadata": {},
   "outputs": [
    {
     "data": {
      "text/plain": [
       "24"
      ]
     },
     "execution_count": 14,
     "metadata": {},
     "output_type": "execute_result"
    }
   ],
   "source": [
    "#3.6 Divide agains but with //\n",
    "seconds_per_day // seconds_per_hour"
   ]
  },
  {
   "cell_type": "code",
   "execution_count": 15,
   "id": "f7048302-904d-4f6a-8c93-ebac86c1dc31",
   "metadata": {},
   "outputs": [],
   "source": [
    "#3.6 Yes the number agrees with the value from the previous without the .0"
   ]
  }
 ],
 "metadata": {
  "kernelspec": {
   "display_name": "Python 3 (ipykernel)",
   "language": "python",
   "name": "python3"
  },
  "language_info": {
   "codemirror_mode": {
    "name": "ipython",
    "version": 3
   },
   "file_extension": ".py",
   "mimetype": "text/x-python",
   "name": "python",
   "nbconvert_exporter": "python",
   "pygments_lexer": "ipython3",
   "version": "3.11.7"
  }
 },
 "nbformat": 4,
 "nbformat_minor": 5
}
