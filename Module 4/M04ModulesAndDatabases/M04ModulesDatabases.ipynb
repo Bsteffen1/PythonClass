{
 "cells": [
  {
   "cell_type": "code",
   "execution_count": 7,
   "id": "392e3a81-6bfd-405b-832e-d94e67e0b64d",
   "metadata": {},
   "outputs": [
    {
     "name": "stdout",
     "output_type": "stream",
     "text": [
      "Open 9-5 daily\n"
     ]
    }
   ],
   "source": [
    "#M04 Modules and Databases\n",
    "\n",
    "#imports the python module zoo and then uses the function from it\n",
    "import zoo\n",
    "\n",
    "zoo.hours()"
   ]
  },
  {
   "cell_type": "code",
   "execution_count": 8,
   "id": "a59b0b8e-c30d-434f-9b50-d0f3d20519e9",
   "metadata": {},
   "outputs": [
    {
     "name": "stdout",
     "output_type": "stream",
     "text": [
      "Open 9-5 daily\n"
     ]
    }
   ],
   "source": [
    "#Changes the name of zoo to menagerie and can now be referenced as so\n",
    "\n",
    "import zoo as menagerie\n",
    "\n",
    "menagerie.hours()"
   ]
  },
  {
   "cell_type": "code",
   "execution_count": 1,
   "id": "d4dd9ff6-60a0-4e93-bbdc-400f260f71a0",
   "metadata": {},
   "outputs": [
    {
     "data": {
      "text/plain": [
       "<sqlite3.Cursor at 0x2192b275b40>"
      ]
     },
     "execution_count": 1,
     "metadata": {},
     "output_type": "execute_result"
    }
   ],
   "source": [
    "#brings in sqlite and connects to a books database and creates the table in it\n",
    "import sqlite3\n",
    "\n",
    "conn = sqlite3.connect('books.db')\n",
    "curs = conn.cursor()\n",
    "curs.execute('''CREATE TABLE books (title VARCHAR(50) PRIMARY KEY, author VARCHAR(50), year INT)''')"
   ]
  },
  {
   "cell_type": "code",
   "execution_count": 2,
   "id": "935a6d3f-87a4-49c2-9105-274a91ad815d",
   "metadata": {},
   "outputs": [
    {
     "data": {
      "text/plain": [
       "<sqlite3.Cursor at 0x2192b275b40>"
      ]
     },
     "execution_count": 2,
     "metadata": {},
     "output_type": "execute_result"
    }
   ],
   "source": [
    "#Insert values into the table\n",
    "\n",
    "curs.execute('INSERT INTO books VALUES(\"The Weirdstone of Brisingamen\", \"Alan Garner\", 1960)')\n",
    "curs.execute('INSERT INTO books VALUES(\"Perdido Street Station\", \"China Miéville\", 2000)')\n",
    "curs.execute('INSERT INTO books VALUES(\"Thud!\", \"Terry Pratchett\", 2005)')\n",
    "curs.execute('INSERT INTO books VALUES(\"The Spellman Files\", \"Lisa Lutz\", 2007)')\n",
    "curs.execute('INSERT INTO books VALUES(\"Small Gods\", \"Terry Pratchett\", 1992)')"
   ]
  },
  {
   "cell_type": "code",
   "execution_count": 3,
   "id": "7c5da33b-b029-4d48-8855-ceab5c758b8b",
   "metadata": {},
   "outputs": [
    {
     "name": "stdout",
     "output_type": "stream",
     "text": [
      "[('Perdido Street Station',), ('Small Gods',), ('The Spellman Files',), ('The Weirdstone of Brisingamen',), ('Thud!',)]\n"
     ]
    }
   ],
   "source": [
    "#get from table only the titles display only the titles from the table and order in alphabetical order\n",
    "\n",
    "curs.execute('SELECT title FROM books ORDER BY title ASC')\n",
    "titles = curs.fetchall()\n",
    "\n",
    "print(titles)"
   ]
  },
  {
   "cell_type": "code",
   "execution_count": 4,
   "id": "ecb4467b-b714-456e-9e39-425a38f406b7",
   "metadata": {},
   "outputs": [],
   "source": [
    "#Close connections\n",
    "\n",
    "curs.close()\n",
    "conn.close()"
   ]
  },
  {
   "cell_type": "code",
   "execution_count": 6,
   "id": "8cd5a3c4-ff80-43cd-95e0-7631275f001f",
   "metadata": {},
   "outputs": [
    {
     "ename": "AttributeError",
     "evalue": "'Engine' object has no attribute 'execute'",
     "output_type": "error",
     "traceback": [
      "\u001b[1;31m---------------------------------------------------------------------------\u001b[0m",
      "\u001b[1;31mAttributeError\u001b[0m                            Traceback (most recent call last)",
      "Cell \u001b[1;32mIn[6], line 7\u001b[0m\n\u001b[0;32m      3\u001b[0m \u001b[38;5;28;01mimport\u001b[39;00m \u001b[38;5;21;01msqlalchemy\u001b[39;00m \u001b[38;5;28;01mas\u001b[39;00m \u001b[38;5;21;01msa\u001b[39;00m\n\u001b[0;32m      5\u001b[0m conn \u001b[38;5;241m=\u001b[39m sa\u001b[38;5;241m.\u001b[39mcreate_engine(\u001b[38;5;124m'\u001b[39m\u001b[38;5;124msqlite:///books.db\u001b[39m\u001b[38;5;124m'\u001b[39m)\n\u001b[1;32m----> 7\u001b[0m titles \u001b[38;5;241m=\u001b[39m conn\u001b[38;5;241m.\u001b[39mexecute(\u001b[38;5;124m'\u001b[39m\u001b[38;5;124mSELECT title FROM books ORDER BY title ASC\u001b[39m\u001b[38;5;124m'\u001b[39m)\n",
      "\u001b[1;31mAttributeError\u001b[0m: 'Engine' object has no attribute 'execute'"
     ]
    }
   ],
   "source": [
    "#couldn't get this to work, execute is not being recongnized no matter what I do and thats how it says to do it in the book\n",
    "\n",
    "import sqlalchemy as sa\n",
    "\n",
    "conn = sa.create_engine('sqlite:///books.db')\n",
    "\n",
    "titles = conn.execute('SELECT title FROM books ORDER BY title ASC')\n",
    "\n",
    "#print(titles)\n",
    "\n",
    "#titles.close()"
   ]
  },
  {
   "cell_type": "code",
   "execution_count": null,
   "id": "3adc7bc7-af39-4af1-88ad-7793bdb86128",
   "metadata": {},
   "outputs": [],
   "source": []
  }
 ],
 "metadata": {
  "kernelspec": {
   "display_name": "Python 3 (ipykernel)",
   "language": "python",
   "name": "python3"
  },
  "language_info": {
   "codemirror_mode": {
    "name": "ipython",
    "version": 3
   },
   "file_extension": ".py",
   "mimetype": "text/x-python",
   "name": "python",
   "nbconvert_exporter": "python",
   "pygments_lexer": "ipython3",
   "version": "3.11.7"
  }
 },
 "nbformat": 4,
 "nbformat_minor": 5
}
