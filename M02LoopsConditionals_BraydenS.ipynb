{
 "cells": [
  {
   "cell_type": "code",
   "execution_count": 20,
   "id": "b140dc72-66a3-4e4a-8cdb-4d0bfe924554",
   "metadata": {},
   "outputs": [
    {
     "name": "stdout",
     "output_type": "stream",
     "text": [
      "too high\n"
     ]
    }
   ],
   "source": [
    "#4.1 High or Low\n",
    "secret = 5\n",
    "guess = 7\n",
    "\n",
    "#4.1 If statements to see if guess is correct, high, or low\n",
    "if guess == secret:\n",
    "    print('just right')\n",
    "elif guess > secret:\n",
    "    print('too high')\n",
    "elif guess < secret:\n",
    "    print('too low')"
   ]
  },
  {
   "cell_type": "code",
   "execution_count": 21,
   "id": "e2252f67-eb70-4510-8f16-35b85c2e6287",
   "metadata": {},
   "outputs": [
    {
     "name": "stdout",
     "output_type": "stream",
     "text": [
      "pumpkin\n"
     ]
    }
   ],
   "source": [
    "#4.2 True or false\n",
    "small = False\n",
    "green = False\n",
    "\n",
    "#4.2 Match small and green if statements\n",
    "if small == True and green == True:\n",
    "    print('pea')\n",
    "elif small == True and not green == True:\n",
    "    print('cherry')\n",
    "elif small == False and green == True:\n",
    "    print('watermelon')\n",
    "elif small == False and green == False:\n",
    "    print('pumpkin')"
   ]
  },
  {
   "cell_type": "code",
   "execution_count": 22,
   "id": "1c7ca8a7-fd66-471e-86ae-061cd6a37af1",
   "metadata": {},
   "outputs": [
    {
     "name": "stdout",
     "output_type": "stream",
     "text": [
      "0\n",
      "1\n",
      "2\n",
      "3\n"
     ]
    }
   ],
   "source": [
    "#6.1 For loop print\n",
    "for x in list(range(0, 4)):\n",
    "    print (x)\n"
   ]
  },
  {
   "cell_type": "code",
   "execution_count": 26,
   "id": "b299cb9b-8221-4abd-8f1b-9ea8b9f76cad",
   "metadata": {},
   "outputs": [
    {
     "name": "stdout",
     "output_type": "stream",
     "text": [
      "too low\n",
      "too low\n",
      "too low\n",
      "too low\n",
      "too low\n",
      "too low\n"
     ]
    }
   ],
   "source": [
    "#6.2 guess while loop\n",
    "guess_me = 7\n",
    "number = 1\n",
    "\n",
    "while number < guess_me:\n",
    "    if number < guess_me:\n",
    "        print('too low')\n",
    "    elif number == guess_me:\n",
    "        print('found it!')\n",
    "    else:\n",
    "        print('oops')\n",
    "    number += 1"
   ]
  },
  {
   "cell_type": "code",
   "execution_count": 27,
   "id": "153d5acb-a28f-476b-98c2-6fe85e8ede9d",
   "metadata": {},
   "outputs": [
    {
     "name": "stdout",
     "output_type": "stream",
     "text": [
      "too low\n",
      "too low\n",
      "too low\n",
      "too low\n",
      "too low\n",
      "found it\n"
     ]
    }
   ],
   "source": [
    "#6.3 guess for loop\n",
    "guess_me = 5\n",
    "for number in  range(10):\n",
    "    if number < guess_me:\n",
    "        print('too low')\n",
    "    elif number == guess_me:\n",
    "        print('found it')\n",
    "        break\n",
    "    else:\n",
    "        print('oops')\n",
    "    "
   ]
  }
 ],
 "metadata": {
  "kernelspec": {
   "display_name": "Python 3 (ipykernel)",
   "language": "python",
   "name": "python3"
  },
  "language_info": {
   "codemirror_mode": {
    "name": "ipython",
    "version": 3
   },
   "file_extension": ".py",
   "mimetype": "text/x-python",
   "name": "python",
   "nbconvert_exporter": "python",
   "pygments_lexer": "ipython3",
   "version": "3.11.7"
  }
 },
 "nbformat": 4,
 "nbformat_minor": 5
}
