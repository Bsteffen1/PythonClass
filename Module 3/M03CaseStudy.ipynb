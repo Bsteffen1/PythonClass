{
 "cells": [
  {
   "cell_type": "code",
   "execution_count": 23,
   "id": "f037d8e3-153c-4dc4-8c40-cfd7efd24df6",
   "metadata": {},
   "outputs": [],
   "source": [
    "#M03 Lab - Case Study: Lists, Functions, and Classes\n",
    "#Program will declare a class with 5 attributes and take input from user to store a vehicle\n",
    "\n",
    "# Class for Vehicle\n",
    "class Vehicle:\n",
    "    # constructer\n",
    "    def __init__(self, vehicleType):\n",
    "        self.vehicleType = vehicleType\n",
    "        #Print the Vehicle Type\n",
    "        print(\"\\nVehicle Type: \" + vehicleType)\n",
    "\n",
    "# Class for automobile with Vehicle inherited\n",
    "class Automobile(Vehicle):\n",
    "    #constructor\n",
    "    def __init__(self, year, make, model, doors, roof):\n",
    "        #Super class input Car for Automobile class\n",
    "        super().__init__(\"Car\")\n",
    "        #Initialize Car attributes \n",
    "        self.year = year\n",
    "        self.make = make\n",
    "        self.model = model\n",
    "        self.doors = doors\n",
    "        self.roof = roof\n",
    "        #Print out car info\n",
    "        print(\"Year: \" + self.year + \"\\nMake: \" + self.make + \"\\nModel: \" + self.model + \"\\nNumber of doors: \" + self.doors + \"\\nType of roof: \" + self.roof  + \"\\n\")\n",
    "        \n"
   ]
  },
  {
   "cell_type": "code",
   "execution_count": 24,
   "id": "1a634b13-cbf4-4dc4-a2bb-c5caaa41b17b",
   "metadata": {},
   "outputs": [
    {
     "name": "stdin",
     "output_type": "stream",
     "text": [
      "Enter Year of the Car: 2001\n",
      "Enter Make of the Car: Toyota\n",
      "Enter Model of the Car: Corolla\n",
      "Enter Amount of Doors of the Car: 4\n",
      "Enter Type of Roof of the Car: Sun Roof\n"
     ]
    },
    {
     "name": "stdout",
     "output_type": "stream",
     "text": [
      "\n",
      "Vehicle Type: Car\n",
      "Year: 2001\n",
      "Make: Toyota\n",
      "Model: Corolla\n",
      "Number of doors: 4\n",
      "Type of roof: Sun Roof\n",
      "\n"
     ]
    }
   ],
   "source": [
    "#Get User Input For a Car\n",
    "#User Inputs year, make, model, amount of doors, and type of roof\n",
    "userYear = input(\"Enter Year of the Car:\")\n",
    "userMake = input(\"Enter Make of the Car:\")\n",
    "userModel = input(\"Enter Model of the Car:\")\n",
    "userDoors = input(\"Enter Amount of Doors of the Car:\")\n",
    "userRoof = input(\"Enter Type of Roof of the Car:\")\n",
    "\n",
    "#User made Automobile is stored and printed out\n",
    "userCar = Automobile(userYear, userMake, userModel, userDoors, userRoof)"
   ]
  }
 ],
 "metadata": {
  "kernelspec": {
   "display_name": "Python 3 (ipykernel)",
   "language": "python",
   "name": "python3"
  },
  "language_info": {
   "codemirror_mode": {
    "name": "ipython",
    "version": 3
   },
   "file_extension": ".py",
   "mimetype": "text/x-python",
   "name": "python",
   "nbconvert_exporter": "python",
   "pygments_lexer": "ipython3",
   "version": "3.11.7"
  }
 },
 "nbformat": 4,
 "nbformat_minor": 5
}
