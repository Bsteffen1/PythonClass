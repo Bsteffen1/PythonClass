{
 "cells": [
  {
   "cell_type": "code",
   "execution_count": 6,
   "id": "7aecec51-e3c7-41c8-9f8e-9145f87f4a6f",
   "metadata": {},
   "outputs": [
    {
     "name": "stdout",
     "output_type": "stream",
     "text": [
      "['mozzarella', 'Cinderella', 'salmonella']\n",
      "['MOZZARELLA', 'Cinderella', 'salmonella']\n",
      "['MOZZARELLA', 'Cinderella']\n"
     ]
    }
   ],
   "source": [
    "#M03 Programming Assignment - Lists and Functions\n",
    "\n",
    "#7.4 - 7.7\n",
    "things = [\"mozzarella\", \"cinderella\", \"salmonella\"]\n",
    "\n",
    "things[1] = \"Cinderella\"\n",
    "print(things)\n",
    "#It does change the element\n",
    "\n",
    "#all caps the cheese\n",
    "things[0] = \"MOZZARELLA\"\n",
    "print(things)\n",
    "\n",
    "#delete salmonella\n",
    "del things[2]\n",
    "print(things)\n"
   ]
  },
  {
   "cell_type": "code",
   "execution_count": 22,
   "id": "bbf25ab4-9848-4513-b0ac-f5fee0dd7d8a",
   "metadata": {},
   "outputs": [
    {
     "name": "stdout",
     "output_type": "stream",
     "text": [
      "5\n"
     ]
    }
   ],
   "source": [
    "#9.1 - 9.2\n",
    "#function returns list\n",
    "def good():\n",
    "    return ['Harry', 'Ron', 'Hermione']\n",
    "\n",
    "def get_odds(rangeSize):\n",
    "    nowNum = 1\n",
    "    while nowNum < rangeSize:\n",
    "        yield nowNum\n",
    "        nowNum = nowNum + 2\n",
    "\n",
    "numRange = get_odds(10)\n",
    "loops = 0\n",
    "\n",
    "for x in numRange:\n",
    "    loops += 1\n",
    "    if(loops == 3):\n",
    "        print(x)\n"
   ]
  }
 ],
 "metadata": {
  "kernelspec": {
   "display_name": "Python 3 (ipykernel)",
   "language": "python",
   "name": "python3"
  },
  "language_info": {
   "codemirror_mode": {
    "name": "ipython",
    "version": 3
   },
   "file_extension": ".py",
   "mimetype": "text/x-python",
   "name": "python",
   "nbconvert_exporter": "python",
   "pygments_lexer": "ipython3",
   "version": "3.11.7"
  }
 },
 "nbformat": 4,
 "nbformat_minor": 5
}
