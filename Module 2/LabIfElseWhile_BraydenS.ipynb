{
 "cells": [
  {
   "cell_type": "code",
   "execution_count": 2,
   "id": "4437f9bf-cdaf-468a-b4e1-0d2fd4a8225c",
   "metadata": {},
   "outputs": [
    {
     "name": "stdin",
     "output_type": "stream",
     "text": [
      "Enter Student Last name, enter ZZZ to exit Brayden\n",
      "Enter Student First name Steffen\n",
      "Enter Student GPA 3.6\n"
     ]
    },
    {
     "name": "stdout",
     "output_type": "stream",
     "text": [
      "Steffen Brayden has made the Dean's list and Honor Roll\n"
     ]
    },
    {
     "name": "stdin",
     "output_type": "stream",
     "text": [
      "Enter Student Last name, enter ZZZ to exit Tomato\n",
      "Enter Student First name Potato\n",
      "Enter Student GPA 3.3\n"
     ]
    },
    {
     "name": "stdout",
     "output_type": "stream",
     "text": [
      "Potato Tomato has made the Honor Roll\n"
     ]
    },
    {
     "name": "stdin",
     "output_type": "stream",
     "text": [
      "Enter Student Last name, enter ZZZ to exit Smith\n",
      "Enter Student First name John\n",
      "Enter Student GPA 3.2\n"
     ]
    },
    {
     "name": "stdout",
     "output_type": "stream",
     "text": [
      "John Smith has not made the Honor Roll or Dean's List\n"
     ]
    },
    {
     "name": "stdin",
     "output_type": "stream",
     "text": [
      "Enter Student Last name, enter ZZZ to exit Doe\n",
      "Enter Student First name Jane\n",
      "Enter Student GPA 3.5\n"
     ]
    },
    {
     "name": "stdout",
     "output_type": "stream",
     "text": [
      "Jane Doe has made the Dean's list and Honor Roll\n"
     ]
    },
    {
     "name": "stdin",
     "output_type": "stream",
     "text": [
      "Enter Student Last name, enter ZZZ to exit Woods\n",
      "Enter Student First name Bob\n",
      "Enter Student GPA 3.25\n"
     ]
    },
    {
     "name": "stdout",
     "output_type": "stream",
     "text": [
      "Bob Woods has made the Honor Roll\n"
     ]
    },
    {
     "name": "stdin",
     "output_type": "stream",
     "text": [
      "Enter Student Last name, enter ZZZ to exit ZZZ\n"
     ]
    }
   ],
   "source": [
    "#M02 lab - Case Study: if...else and while\n",
    "#Brayden Steffen\n",
    "#LabIfElseWhile_BraydenS.ipynb\n",
    "#Python app that takes a input for student lastname(enter ZZZ to exit), firstname, and GPA\n",
    "#App test if GPA is greater than or equal to 3.5 print message\n",
    "#App test if GPA is equal to or equal to 3.25 print message\n",
    "\n",
    "studentLastname = ''\n",
    "studentGPA = 0\n",
    "\n",
    "#get user input for student name and gpa\n",
    "while True:\n",
    "    studentLastname = input('Enter Student Last name, enter ZZZ to exit')\n",
    "    if studentLastname == 'ZZZ' or studentLastname == 'zzz':\n",
    "        break\n",
    "    studentFirstname = input('Enter Student First name')\n",
    "    studentGPA = input('Enter Student GPA')\n",
    "    studentGPA = float(studentGPA)\n",
    "    if studentGPA >= 3.5:\n",
    "        print(studentFirstname + \" \" + studentLastname + \" has made the Dean's list and Honor Roll\")\n",
    "    elif studentGPA >= 3.25:\n",
    "        print(studentFirstname + \" \" + studentLastname + \" has made the Honor Roll\")\n",
    "    else:\n",
    "        print(studentFirstname + \" \" + studentLastname + \" has not made the Honor Roll or Dean's List\")\n",
    "    "
   ]
  },
  {
   "cell_type": "code",
   "execution_count": null,
   "id": "1fd7e6ef-ab19-4916-8dbe-02b2cb8d9642",
   "metadata": {},
   "outputs": [],
   "source": []
  }
 ],
 "metadata": {
  "kernelspec": {
   "display_name": "Python 3 (ipykernel)",
   "language": "python",
   "name": "python3"
  },
  "language_info": {
   "codemirror_mode": {
    "name": "ipython",
    "version": 3
   },
   "file_extension": ".py",
   "mimetype": "text/x-python",
   "name": "python",
   "nbconvert_exporter": "python",
   "pygments_lexer": "ipython3",
   "version": "3.11.7"
  }
 },
 "nbformat": 4,
 "nbformat_minor": 5
}
